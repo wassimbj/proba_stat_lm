{
 "cells": [
  {
   "cell_type": "markdown",
   "source": [
    "\r\n",
    "# Wassim Ben Jdida\r\n",
    "<html>\r\n",
    "   <head>\r\n",
    "      <title>HTML Base Tag Example</title>\r\n",
    "      <base href = \"https://github.com/nevermind78/Proba_stat_4_LM\" />\r\n",
    "   </head>\r\n",
    "   <body>\r\n",
    "      <img src = \"https://th.bing.com/th/id/OIP.Quijt6_GuJ-OzuMSNQ_S1gHaHa?pid=Api&rs=1\" width=\"200\" alt = \"Logo Image\"/>\r\n",
    "    </body>\r\n",
    "\r\n",
    "</html>\r\n"
   ],
   "metadata": {}
  },
  {
   "cell_type": "code",
   "execution_count": 1,
   "source": [
    "from __future__ import print_function\r\n",
    "import numpy as np\r\n",
    "import pandas as pd\r\n",
    "from ipywidgets import interact, interactive, fixed, interact_manual\r\n",
    "import ipywidgets as widgets"
   ],
   "outputs": [],
   "metadata": {}
  },
  {
   "cell_type": "markdown",
   "source": [
    "## Probabilités - approche fréquentiste\n",
    "### Définition par la fréquence relative :\n",
    "* une expérience d’ensemble fondamental  est exécutée plusieurs fois sous les mêmes conditions.\n",
    "* Pour chaque événement E de , n(E) est le nombre de fois où l’événement E survient lors des n premières répétitions de l’expérience.\n",
    "* P(E), la probabilité de l’événement E est définie de la manière suivante :\n",
    "\n",
    "$$P(E)=\\lim_{n\\to\\infty}\\dfrac{n(E)}{n} $$ "
   ],
   "metadata": {}
  },
  {
   "cell_type": "markdown",
   "source": [
    "## Simulation d'un dé parfait"
   ],
   "metadata": {}
  },
  {
   "cell_type": "code",
   "execution_count": 2,
   "source": [
    "# seed the random number generator\n",
    "np.random.seed(1)\n",
    "\n",
    "# Example: sampling \n",
    "#\n",
    "# do not forget that Python arrays are zero-indexed,\n",
    "# and the 2nd argument to NumPy arange must be incremented by 1\n",
    "# if you want to include that value\n",
    "n = 6\n",
    "k = 200000\n",
    "T=np.random.choice(np.arange(1, n+1), k, replace=True)\n",
    "unique, counts = np.unique(T, return_counts=True)\n",
    "dic=dict(zip(unique, counts))\n",
    "df=pd.DataFrame(list(dic.items()),columns=['i','Occurence'])\n",
    "df.set_index(['i'], inplace=True)\n",
    "df['Freq']=df['Occurence']/k\n",
    "df['P({i})']='{}'.format(1/6)\n",
    "df"
   ],
   "outputs": [
    {
     "output_type": "execute_result",
     "data": {
      "text/plain": [
       "   Occurence      Freq               P({i})\n",
       "i                                          \n",
       "1      33346  0.166730  0.16666666666666666\n",
       "2      33221  0.166105  0.16666666666666666\n",
       "3      33447  0.167235  0.16666666666666666\n",
       "4      33224  0.166120  0.16666666666666666\n",
       "5      33379  0.166895  0.16666666666666666\n",
       "6      33383  0.166915  0.16666666666666666"
      ],
      "text/html": [
       "<div>\n",
       "<style scoped>\n",
       "    .dataframe tbody tr th:only-of-type {\n",
       "        vertical-align: middle;\n",
       "    }\n",
       "\n",
       "    .dataframe tbody tr th {\n",
       "        vertical-align: top;\n",
       "    }\n",
       "\n",
       "    .dataframe thead th {\n",
       "        text-align: right;\n",
       "    }\n",
       "</style>\n",
       "<table border=\"1\" class=\"dataframe\">\n",
       "  <thead>\n",
       "    <tr style=\"text-align: right;\">\n",
       "      <th></th>\n",
       "      <th>Occurence</th>\n",
       "      <th>Freq</th>\n",
       "      <th>P({i})</th>\n",
       "    </tr>\n",
       "    <tr>\n",
       "      <th>i</th>\n",
       "      <th></th>\n",
       "      <th></th>\n",
       "      <th></th>\n",
       "    </tr>\n",
       "  </thead>\n",
       "  <tbody>\n",
       "    <tr>\n",
       "      <th>1</th>\n",
       "      <td>33346</td>\n",
       "      <td>0.166730</td>\n",
       "      <td>0.16666666666666666</td>\n",
       "    </tr>\n",
       "    <tr>\n",
       "      <th>2</th>\n",
       "      <td>33221</td>\n",
       "      <td>0.166105</td>\n",
       "      <td>0.16666666666666666</td>\n",
       "    </tr>\n",
       "    <tr>\n",
       "      <th>3</th>\n",
       "      <td>33447</td>\n",
       "      <td>0.167235</td>\n",
       "      <td>0.16666666666666666</td>\n",
       "    </tr>\n",
       "    <tr>\n",
       "      <th>4</th>\n",
       "      <td>33224</td>\n",
       "      <td>0.166120</td>\n",
       "      <td>0.16666666666666666</td>\n",
       "    </tr>\n",
       "    <tr>\n",
       "      <th>5</th>\n",
       "      <td>33379</td>\n",
       "      <td>0.166895</td>\n",
       "      <td>0.16666666666666666</td>\n",
       "    </tr>\n",
       "    <tr>\n",
       "      <th>6</th>\n",
       "      <td>33383</td>\n",
       "      <td>0.166915</td>\n",
       "      <td>0.16666666666666666</td>\n",
       "    </tr>\n",
       "  </tbody>\n",
       "</table>\n",
       "</div>"
      ]
     },
     "metadata": {},
     "execution_count": 2
    }
   ],
   "metadata": {}
  },
  {
   "cell_type": "markdown",
   "source": [
    "## Ajouter de l'intéraction "
   ],
   "metadata": {}
  },
  {
   "cell_type": "code",
   "execution_count": 21,
   "source": [
    "def dice_sim(k=100):\n",
    "    n = 6    \n",
    "    T=np.random.choice(np.arange(1, n+1), k, replace=True)\n",
    "    unique, counts = np.unique(T, return_counts=True)\n",
    "    dic=dict(zip(unique, counts))\n",
    "    df=pd.DataFrame(list(dic.items()),columns=['i','Occurence'])\n",
    "    df.set_index(['i'], inplace=True)\n",
    "    df['Freq']=df['Occurence']/k\n",
    "    df['P({i})']='{0:.3f}'.format(1/6)\n",
    "    return df\n",
    "    "
   ],
   "outputs": [],
   "metadata": {}
  },
  {
   "cell_type": "code",
   "execution_count": 22,
   "source": [
    "dice_sim(100)"
   ],
   "outputs": [
    {
     "output_type": "execute_result",
     "data": {
      "text/plain": [
       "   Occurence  Freq P({i})\n",
       "i                        \n",
       "1         17  0.17  0.167\n",
       "2         20  0.20  0.167\n",
       "3          9  0.09  0.167\n",
       "4         15  0.15  0.167\n",
       "5         21  0.21  0.167\n",
       "6         18  0.18  0.167"
      ],
      "text/html": [
       "<div>\n",
       "<style scoped>\n",
       "    .dataframe tbody tr th:only-of-type {\n",
       "        vertical-align: middle;\n",
       "    }\n",
       "\n",
       "    .dataframe tbody tr th {\n",
       "        vertical-align: top;\n",
       "    }\n",
       "\n",
       "    .dataframe thead th {\n",
       "        text-align: right;\n",
       "    }\n",
       "</style>\n",
       "<table border=\"1\" class=\"dataframe\">\n",
       "  <thead>\n",
       "    <tr style=\"text-align: right;\">\n",
       "      <th></th>\n",
       "      <th>Occurence</th>\n",
       "      <th>Freq</th>\n",
       "      <th>P({i})</th>\n",
       "    </tr>\n",
       "    <tr>\n",
       "      <th>i</th>\n",
       "      <th></th>\n",
       "      <th></th>\n",
       "      <th></th>\n",
       "    </tr>\n",
       "  </thead>\n",
       "  <tbody>\n",
       "    <tr>\n",
       "      <th>1</th>\n",
       "      <td>17</td>\n",
       "      <td>0.17</td>\n",
       "      <td>0.167</td>\n",
       "    </tr>\n",
       "    <tr>\n",
       "      <th>2</th>\n",
       "      <td>20</td>\n",
       "      <td>0.20</td>\n",
       "      <td>0.167</td>\n",
       "    </tr>\n",
       "    <tr>\n",
       "      <th>3</th>\n",
       "      <td>9</td>\n",
       "      <td>0.09</td>\n",
       "      <td>0.167</td>\n",
       "    </tr>\n",
       "    <tr>\n",
       "      <th>4</th>\n",
       "      <td>15</td>\n",
       "      <td>0.15</td>\n",
       "      <td>0.167</td>\n",
       "    </tr>\n",
       "    <tr>\n",
       "      <th>5</th>\n",
       "      <td>21</td>\n",
       "      <td>0.21</td>\n",
       "      <td>0.167</td>\n",
       "    </tr>\n",
       "    <tr>\n",
       "      <th>6</th>\n",
       "      <td>18</td>\n",
       "      <td>0.18</td>\n",
       "      <td>0.167</td>\n",
       "    </tr>\n",
       "  </tbody>\n",
       "</table>\n",
       "</div>"
      ]
     },
     "metadata": {},
     "execution_count": 22
    }
   ],
   "metadata": {}
  },
  {
   "cell_type": "code",
   "execution_count": 23,
   "source": [
    "interact(dice_sim,k=widgets.IntSlider(min=1000, max=50000, step=500, value=10));"
   ],
   "outputs": [
    {
     "output_type": "display_data",
     "data": {
      "text/plain": [
       "interactive(children=(IntSlider(value=1000, description='k', max=50000, min=1000, step=500), Output()), _dom_c…"
      ],
      "application/vnd.jupyter.widget-view+json": {
       "model_id": "5792338d4ef5427dafd0ac26c102e9dc",
       "version_major": 2,
       "version_minor": 0
      }
     },
     "metadata": {}
    }
   ],
   "metadata": {}
  },
  {
   "cell_type": "markdown",
   "source": [
    "## Cas d'un dé truqué"
   ],
   "metadata": {}
  },
  {
   "cell_type": "code",
   "execution_count": 24,
   "source": [
    "p=[0.1, 0.1, 0.1, 0.1,0.1,0.5]\n",
    "sum(p)"
   ],
   "outputs": [
    {
     "output_type": "execute_result",
     "data": {
      "text/plain": [
       "1.0"
      ]
     },
     "metadata": {},
     "execution_count": 24
    }
   ],
   "metadata": {}
  },
  {
   "cell_type": "code",
   "execution_count": 25,
   "source": [
    "def dice_sim(k=100,q=[[0.1, 0.1, 0.1, 0.1,0.1,0.5],[0.2, 0.1, 0.2, 0.1,0.1,0.3]]):\n",
    "    n = 6\n",
    "    qq=q\n",
    "    T=np.random.choice(np.arange(1, n+1), k, replace=True,p=qq)\n",
    "    unique, counts = np.unique(T, return_counts=True)\n",
    "    dic=dict(zip(unique, counts))\n",
    "    df=pd.DataFrame(list(dic.items()),columns=['i','Occurence'])\n",
    "    df.set_index(['i'], inplace=True)\n",
    "    df['Freq']=df['Occurence']/k\n",
    "    df['P({i})']=['{0:.3f}'.format(j) for j in q]\n",
    "    return df"
   ],
   "outputs": [],
   "metadata": {}
  },
  {
   "cell_type": "code",
   "execution_count": 27,
   "source": [
    "interact(dice_sim,k=widgets.IntSlider(min=1000, max=50000, step=500, value=10));"
   ],
   "outputs": [
    {
     "output_type": "display_data",
     "data": {
      "text/plain": [
       "interactive(children=(IntSlider(value=1000, description='k', max=50000, min=1000, step=500), Dropdown(descript…"
      ],
      "application/vnd.jupyter.widget-view+json": {
       "model_id": "001b98362dd84aeaa550c2ea1435e215",
       "version_major": 2,
       "version_minor": 0
      }
     },
     "metadata": {}
    }
   ],
   "metadata": {}
  },
  {
   "cell_type": "markdown",
   "source": [
    "## Exercice 1: \n",
    "\n",
    "Tester l'intéraction précédente pour plusieurs valeurs de `p`\n",
    "Donner votre conclusion :"
   ],
   "metadata": {}
  },
  {
   "cell_type": "code",
   "execution_count": 9,
   "source": [
    "# Conclusion \n",
    "\n",
    "\n",
    "\n",
    "\n"
   ],
   "outputs": [],
   "metadata": {}
  },
  {
   "cell_type": "markdown",
   "source": [
    "## Permutation Aléatoire"
   ],
   "metadata": {}
  },
  {
   "cell_type": "code",
   "execution_count": 10,
   "source": [
    "np.random.seed(2)\n",
    "\n",
    "m = 1\n",
    "n = 10\n",
    "\n",
    "v = np.arange(m, n+1)\n",
    "print('v =', v)\n",
    "\n",
    "np.random.shuffle(v)\n",
    "print('v, shuffled =', v)"
   ],
   "outputs": [
    {
     "output_type": "stream",
     "name": "stdout",
     "text": [
      "v = [ 1  2  3  4  5  6  7  8  9 10]\n",
      "v, shuffled = [ 5  2  6  1  8  3  4  7 10  9]\n"
     ]
    }
   ],
   "metadata": {}
  },
  {
   "cell_type": "markdown",
   "source": [
    "## Exercice 2\n",
    "Vérifier que les permutation aléatoires sont uniforme , c'est à dire que la probabilité de générer une permutation d'élement de {1,2,3} est 1/6.\n",
    "En effet les permutations de {1,2,3} sont :\n",
    "* 1 2 3\n",
    "* 1 3 2\n",
    "* 2 1 3\n",
    "* 2 3 1\n",
    "* 3 1 2\n",
    "* 3 2 1\n"
   ],
   "metadata": {}
  },
  {
   "cell_type": "code",
   "execution_count": 11,
   "source": [
    "k =10\n",
    "m = 1\n",
    "n = 3\n",
    "v = np.arange(m, n+1)\n",
    "T=[]\n",
    "for i in range(k):\n",
    "    np.random.shuffle(v)\n",
    "    w=np.copy(v)\n",
    "    T.append(w)"
   ],
   "outputs": [],
   "metadata": {}
  },
  {
   "cell_type": "code",
   "execution_count": 12,
   "source": [
    "TT=[str(i) for i in  T]\n",
    "TT"
   ],
   "outputs": [
    {
     "output_type": "execute_result",
     "data": {
      "text/plain": [
       "['[1 3 2]',\n",
       " '[3 1 2]',\n",
       " '[1 2 3]',\n",
       " '[1 3 2]',\n",
       " '[3 1 2]',\n",
       " '[3 1 2]',\n",
       " '[1 3 2]',\n",
       " '[2 1 3]',\n",
       " '[3 1 2]',\n",
       " '[2 3 1]']"
      ]
     },
     "metadata": {},
     "execution_count": 12
    }
   ],
   "metadata": {}
  },
  {
   "cell_type": "code",
   "execution_count": 13,
   "source": [
    "k =1000\n",
    "m = 1\n",
    "n = 3\n",
    "v = np.arange(m, n+1)\n",
    "T=[]\n",
    "for i in range(k):\n",
    "    np.random.shuffle(v)\n",
    "    w=np.copy(v)\n",
    "    T.append(w)\n",
    "\n",
    "TT=[str(i) for i in  T]\n",
    "unique, counts = np.unique(TT, return_counts=True)\n",
    "dic=dict(zip(unique, counts))\n",
    "df=pd.DataFrame(list(dic.items()),columns=['i','Occurence'])\n",
    "df.set_index(['i'], inplace=True)\n",
    "df['Freq']=df['Occurence']/k\n",
    "df['P({i,j,k})']='{0:.3f}'.format(1/6)\n",
    "df"
   ],
   "outputs": [
    {
     "output_type": "execute_result",
     "data": {
      "text/plain": [
       "         Occurence   Freq P({i,j,k})\n",
       "i                                   \n",
       "[1 2 3]        169  0.169      0.167\n",
       "[1 3 2]        180  0.180      0.167\n",
       "[2 1 3]        161  0.161      0.167\n",
       "[2 3 1]        169  0.169      0.167\n",
       "[3 1 2]        157  0.157      0.167\n",
       "[3 2 1]        164  0.164      0.167"
      ],
      "text/html": [
       "<div>\n",
       "<style scoped>\n",
       "    .dataframe tbody tr th:only-of-type {\n",
       "        vertical-align: middle;\n",
       "    }\n",
       "\n",
       "    .dataframe tbody tr th {\n",
       "        vertical-align: top;\n",
       "    }\n",
       "\n",
       "    .dataframe thead th {\n",
       "        text-align: right;\n",
       "    }\n",
       "</style>\n",
       "<table border=\"1\" class=\"dataframe\">\n",
       "  <thead>\n",
       "    <tr style=\"text-align: right;\">\n",
       "      <th></th>\n",
       "      <th>Occurence</th>\n",
       "      <th>Freq</th>\n",
       "      <th>P({i,j,k})</th>\n",
       "    </tr>\n",
       "    <tr>\n",
       "      <th>i</th>\n",
       "      <th></th>\n",
       "      <th></th>\n",
       "      <th></th>\n",
       "    </tr>\n",
       "  </thead>\n",
       "  <tbody>\n",
       "    <tr>\n",
       "      <th>[1 2 3]</th>\n",
       "      <td>169</td>\n",
       "      <td>0.169</td>\n",
       "      <td>0.167</td>\n",
       "    </tr>\n",
       "    <tr>\n",
       "      <th>[1 3 2]</th>\n",
       "      <td>180</td>\n",
       "      <td>0.180</td>\n",
       "      <td>0.167</td>\n",
       "    </tr>\n",
       "    <tr>\n",
       "      <th>[2 1 3]</th>\n",
       "      <td>161</td>\n",
       "      <td>0.161</td>\n",
       "      <td>0.167</td>\n",
       "    </tr>\n",
       "    <tr>\n",
       "      <th>[2 3 1]</th>\n",
       "      <td>169</td>\n",
       "      <td>0.169</td>\n",
       "      <td>0.167</td>\n",
       "    </tr>\n",
       "    <tr>\n",
       "      <th>[3 1 2]</th>\n",
       "      <td>157</td>\n",
       "      <td>0.157</td>\n",
       "      <td>0.167</td>\n",
       "    </tr>\n",
       "    <tr>\n",
       "      <th>[3 2 1]</th>\n",
       "      <td>164</td>\n",
       "      <td>0.164</td>\n",
       "      <td>0.167</td>\n",
       "    </tr>\n",
       "  </tbody>\n",
       "</table>\n",
       "</div>"
      ]
     },
     "metadata": {},
     "execution_count": 13
    }
   ],
   "metadata": {}
  },
  {
   "cell_type": "markdown",
   "source": [
    "### Donner  votre conclusion en expliquant le script "
   ],
   "metadata": {}
  },
  {
   "cell_type": "code",
   "execution_count": 14,
   "source": [
    "## Explication \n",
    "\n",
    "\n",
    "\n",
    "\n",
    "\n",
    "\n",
    "\n",
    "\n"
   ],
   "outputs": [],
   "metadata": {}
  },
  {
   "cell_type": "markdown",
   "source": [
    "## Probabilité conditionnelle "
   ],
   "metadata": {}
  },
  {
   "cell_type": "markdown",
   "source": [
    "Rappelons que l'interprétation fréquentiste de la probabilité conditionnelle basée sur un grand nombre `n` de répétitions d'une expérience est $ P (A | B) ≈ n_ {AB} / n_ {B} $, où $ n_ {AB} $ est le nombre de fois où $ A \\cap B $ se produit et $ n_ {B} $ est le nombre de fois où $ B $ se produit. Essayons cela par simulation et vérifions les résultats de l'exemple 2.2.5. Utilisons donc [`numpy.random.choice`] (https://docs.scipy.org/doc/numpy-1.15.0/reference/generated/numpy.random.choice.html) pour simuler les familles` n`, chacun avec deux enfants.\n"
   ],
   "metadata": {}
  },
  {
   "cell_type": "code",
   "execution_count": 15,
   "source": [
    "np.random.seed(34)\n",
    "\n",
    "n = 10**5\n",
    "child1 = np.random.choice([1,2], n, replace=True) \n",
    "child2 = np.random.choice([1,2], n, replace=True) \n",
    "\n",
    "print('child1:\\n{}\\n'.format(child1))\n",
    "\n",
    "print('child2:\\n{}\\n'.format(child2))"
   ],
   "outputs": [
    {
     "output_type": "stream",
     "name": "stdout",
     "text": [
      "child1:\n",
      "[2 1 1 ... 1 2 1]\n",
      "\n",
      "child2:\n",
      "[2 2 2 ... 2 2 1]\n",
      "\n"
     ]
    }
   ],
   "metadata": {}
  },
  {
   "cell_type": "markdown",
   "source": [
    "Ici, «child1» est un «tableau NumPy» de longueur «n», où chaque élément est un 1 ou un 2. En laissant 1 pour «fille» et 2 pour «garçon», ce «tableau» représente le sexe du enfant aîné dans chacune des familles «n». De même, «enfant2» représente le sexe du plus jeune enfant de chaque famille.\n"
   ],
   "metadata": {}
  },
  {
   "cell_type": "code",
   "execution_count": 16,
   "source": [
    "np.random.choice([\"girl\", \"boy\"], n, replace=True)"
   ],
   "outputs": [
    {
     "output_type": "execute_result",
     "data": {
      "text/plain": [
       "array(['boy', 'boy', 'boy', ..., 'boy', 'boy', 'boy'], dtype='<U4')"
      ]
     },
     "metadata": {},
     "execution_count": 16
    }
   ],
   "metadata": {}
  },
  {
   "cell_type": "markdown",
   "source": [
    "mais il est plus pratique de travailler avec des valeurs numériques.\n",
    "\n",
    "Soit $ A $ l'événement où les deux enfants sont des filles et $ B $ l'événement où l'aîné est une fille. Suivant l'interprétation fréquentiste, nous comptons le nombre de répétitions où $ B $ s'est produit et le nommons `n_b`, et nous comptons également le nombre de répétitions où $ A \\cap B $ s'est produit et le nommons` n_ab`. Enfin, nous divisons `n_ab` par` n_b` pour approximer $ P (A | B) $."
   ],
   "metadata": {}
  },
  {
   "cell_type": "code",
   "execution_count": 17,
   "source": [
    "n_b = np.sum(child1==1)\n",
    "n_ab = np.sum((child1==1) & (child2==1))\n",
    "\n",
    "print('P(both girls | elder is girl) = {:0.2F}'.format(n_ab / n_b))"
   ],
   "outputs": [
    {
     "output_type": "stream",
     "name": "stdout",
     "text": [
      "P(both girls | elder is girl) = 0.50\n"
     ]
    }
   ],
   "metadata": {}
  },
  {
   "cell_type": "markdown",
   "source": [
    "L'esperluette `&` est un élément par élément $ AND $, donc `n_ab` est le nombre de familles où le premier et le deuxième enfant sont des filles. Lorsque nous avons exécuté ce code, nous avons obtenu 0,50, confirmant notre réponse $ P (\\text {les deux filles | l'aîné est une fille}) = 1/2 $.\n",
    "\n",
    "Soit maintenant $ A $ l'événement où les deux enfants sont des filles et $ B $ l'événement selon lequel au moins l'un des enfants est une fille. Alors $ A \\cap B $ est le même, mais `n_b` doit compter le nombre de familles où au moins un enfant est une fille. Ceci est accompli avec l'opérateur élémentaire $ OR $ `|` (ce n'est pas une barre de conditionnement; c'est un $ OR $ inclusif, retournant `True` si au moins un élément est` True`)."
   ],
   "metadata": {}
  },
  {
   "cell_type": "code",
   "execution_count": 18,
   "source": [
    "n_b = np.sum((child1==1) | (child2==2))\n",
    "n_ab = np.sum((child1==1) & (child2==1))\n",
    "\n",
    "print('P(both girls | at least one girl) = {:0.2F}'.format(n_ab / n_b))"
   ],
   "outputs": [
    {
     "output_type": "stream",
     "name": "stdout",
     "text": [
      "P(both girls | at least one girl) = 0.33\n"
     ]
    }
   ],
   "metadata": {}
  },
  {
   "cell_type": "markdown",
   "source": [
    "Pour nous, le résultat était de 0,33, confirmant que $ P (\\text {les deux filles | au moins une fille}) = 1/3 $."
   ],
   "metadata": {}
  }
 ],
 "metadata": {
  "kernelspec": {
   "display_name": "Python 3",
   "language": "python",
   "name": "python3"
  },
  "language_info": {
   "codemirror_mode": {
    "name": "ipython",
    "version": 3
   },
   "file_extension": ".py",
   "mimetype": "text/x-python",
   "name": "python",
   "nbconvert_exporter": "python",
   "pygments_lexer": "ipython3",
   "version": "3.8.8"
  }
 },
 "nbformat": 4,
 "nbformat_minor": 4
}